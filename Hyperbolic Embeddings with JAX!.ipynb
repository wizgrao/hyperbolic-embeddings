{
 "cells": [
  {
   "cell_type": "markdown",
   "metadata": {},
   "source": [
    "# Hyperbolic Embeddings!\n",
    "\n",
    "In this notebook, we use JAX to minimize the energy of a system in Euclidean and Hyperbolic space"
   ]
  },
  {
   "cell_type": "code",
   "execution_count": 20,
   "metadata": {},
   "outputs": [],
   "source": [
    "import matplotlib.pyplot as plt\n",
    "import jax.numpy as np\n",
    "from jax import random, jit, vmap, grad"
   ]
  },
  {
   "cell_type": "markdown",
   "metadata": {},
   "source": [
    "With JAX, we need to explicitly save the random state so we write some functions that help us generate initialization points"
   ]
  },
  {
   "cell_type": "code",
   "execution_count": 21,
   "metadata": {},
   "outputs": [],
   "source": [
    "def random_point(key, scale=1e-3):\n",
    "    weights = random.normal(key, (2,), dtype=np.float32)*scale\n",
    "    return weights\n",
    "\n",
    "def init_points(n, key):\n",
    "    keys = random.split(key, n)\n",
    "    return [random_point(k) for k in keys]"
   ]
  },
  {
   "cell_type": "markdown",
   "metadata": {},
   "source": [
    "Here we define the euclidean distance and calculate energy of the system. We try to embed a tree structure by giving every node a point charge and connecting each pair of related nodes with a spring governed by hookes law. We calculate the elastic potential energy between two points as $e_h = d(x, y)^2$ and the electric potential energy as $\\frac{1}{d(x, y)}$ We add the energies together and minimize it with RSGD."
   ]
  },
  {
   "cell_type": "code",
   "execution_count": 26,
   "metadata": {},
   "outputs": [],
   "source": [
    "e2 = lambda x, y: np.linalg.norm(x - y)\n",
    "tensorMagnitude= lambda x:1\n",
    "\n",
    "@jit\n",
    "def energy(points):\n",
    "    energy = 0\n",
    "    for i in range(len(points)):\n",
    "        for j in range(len(points)):\n",
    "            if i == j:\n",
    "                continue\n",
    "            energy += 1/e2(points[i], points[j])\n",
    "            if j == 4*i + 2 or j == 4*i + 1 or j == 4*i + 3 or j == 4*i + 4:\n",
    "                energy += e2(points[i], points[j])**2\n",
    "    return energy\n",
    "\n",
    "dEnergy = jit(grad(energy))\n",
    "\n",
    "def update(points, lr=1e-4):\n",
    "    gradEnergy = dEnergy(points)\n",
    "    return [p - 1/tensorMagnitude(p)*lr*g for p, g in zip(points, gradEnergy)]"
   ]
  },
  {
   "cell_type": "code",
   "execution_count": 27,
   "metadata": {},
   "outputs": [
    {
     "name": "stdout",
     "output_type": "stream",
     "text": [
      "     0 of 100000. Energy: 307285.437500\n",
      "  5000 of 100000. Energy: 10751101.000000\n",
      " 10000 of 100000. Energy: 347532.406250\n",
      " 15000 of 100000. Energy: 11300.072266\n",
      " 20000 of 100000. Energy: 484.815521\n",
      " 25000 of 100000. Energy: 187.730270\n",
      " 30000 of 100000. Energy: 183.181534\n",
      " 35000 of 100000. Energy: 183.033600\n",
      " 40000 of 100000. Energy: 183.025787\n",
      " 45000 of 100000. Energy: 183.025558\n",
      " 50000 of 100000. Energy: 183.025482\n",
      " 55000 of 100000. Energy: 183.025589\n",
      " 60000 of 100000. Energy: 183.025604\n",
      " 65000 of 100000. Energy: 183.025604\n",
      " 70000 of 100000. Energy: 183.025604\n",
      " 75000 of 100000. Energy: 183.025604\n",
      " 80000 of 100000. Energy: 183.025604\n",
      " 85000 of 100000. Energy: 183.025604\n",
      " 90000 of 100000. Energy: 183.025604\n",
      " 95000 of 100000. Energy: 183.025604\n"
     ]
    }
   ],
   "source": [
    "points = init_points(21, key)\n",
    "iterations = 100001\n",
    "every = 5000\n",
    "for i in range(iterations):\n",
    "    if i % every == 0:\n",
    "        print(\"%6d of %6d. Energy: %f\" % (i, iterations, energy(points)))\n",
    "    points = jit(update)(points, lr=1e-3)\n",
    "\n"
   ]
  },
  {
   "cell_type": "code",
   "execution_count": 28,
   "metadata": {},
   "outputs": [
    {
     "data": {
      "text/plain": [
       "<matplotlib.collections.PathCollection at 0x10ef1f390>"
      ]
     },
     "execution_count": 28,
     "metadata": {},
     "output_type": "execute_result"
    },
    {
     "data": {
      "image/png": "[encoded data removed]",
      "text/plain": [
       "<Figure size 432x288 with 1 Axes>"
      ]
     },
     "metadata": {
      "needs_background": "light"
     },
     "output_type": "display_data"
    }
   ],
   "source": [
    "plt.scatter(*zip(*points))"
   ]
  },
  {
   "cell_type": "markdown",
   "metadata": {},
   "source": [
    "Now we do the same thing except we use the poincare metric (called b2 in the code)"
   ]
  },
  {
   "cell_type": "code",
   "execution_count": 31,
   "metadata": {},
   "outputs": [
    {
     "name": "stdout",
     "output_type": "stream",
     "text": [
      "     0 of 200001. Energy: 153643.406250\n",
      "  1000 of 200001. Energy: 1797.001465\n",
      "  2000 of 200001. Energy: 887.618958\n",
      "  3000 of 200001. Energy: 582.009888\n",
      "  4000 of 200001. Energy: 436.470123\n",
      "  5000 of 200001. Energy: 365.787781\n",
      "  6000 of 200001. Energy: 319.314148\n",
      "  7000 of 200001. Energy: 289.214050\n",
      "  8000 of 200001. Energy: 270.071442\n",
      "  9000 of 200001. Energy: 259.803223\n",
      " 10000 of 200001. Energy: 253.630432\n",
      " 11000 of 200001. Energy: 248.912628\n",
      " 12000 of 200001. Energy: 245.111984\n",
      " 13000 of 200001. Energy: 242.281708\n",
      " 14000 of 200001. Energy: 240.121475\n",
      " 15000 of 200001. Energy: 238.698410\n",
      " 16000 of 200001. Energy: 237.676956\n",
      " 17000 of 200001. Energy: 236.736511\n",
      " 18000 of 200001. Energy: 235.822998\n",
      " 19000 of 200001. Energy: 234.949554\n",
      " 20000 of 200001. Energy: 234.078918\n",
      " 21000 of 200001. Energy: 233.164185\n",
      " 22000 of 200001. Energy: 232.229202\n",
      " 23000 of 200001. Energy: 231.371658\n",
      " 24000 of 200001. Energy: 230.647049\n",
      " 25000 of 200001. Energy: 230.025375\n",
      " 26000 of 200001. Energy: 229.440323\n",
      " 27000 of 200001. Energy: 228.808472\n",
      " 28000 of 200001. Energy: 228.056976\n",
      " 29000 of 200001. Energy: 227.212830\n",
      " 30000 of 200001. Energy: 226.388184\n",
      " 31000 of 200001. Energy: 225.592468\n",
      " 32000 of 200001. Energy: 224.728790\n",
      " 33000 of 200001. Energy: 223.703568\n",
      " 34000 of 200001. Energy: 222.498291\n",
      " 35000 of 200001. Energy: 221.166641\n",
      " 36000 of 200001. Energy: 219.716187\n",
      " 37000 of 200001. Energy: 218.035294\n",
      " 38000 of 200001. Energy: 216.286026\n",
      " 39000 of 200001. Energy: 214.842194\n",
      " 40000 of 200001. Energy: 213.633865\n",
      " 41000 of 200001. Energy: 212.610016\n",
      " 42000 of 200001. Energy: 211.763290\n",
      " 43000 of 200001. Energy: 211.055191\n",
      " 44000 of 200001. Energy: 210.414444\n",
      " 45000 of 200001. Energy: 209.733643\n",
      " 46000 of 200001. Energy: 208.853165\n",
      " 47000 of 200001. Energy: 207.691147\n",
      " 48000 of 200001. Energy: 206.466095\n",
      " 49000 of 200001. Energy: 205.406403\n",
      " 50000 of 200001. Energy: 204.518112\n",
      " 51000 of 200001. Energy: 203.727936\n",
      " 52000 of 200001. Energy: 202.995392\n",
      " 53000 of 200001. Energy: 202.327118\n",
      " 54000 of 200001. Energy: 201.734055\n",
      " 55000 of 200001. Energy: 201.207169\n",
      " 56000 of 200001. Energy: 200.731384\n",
      " 57000 of 200001. Energy: 200.294037\n",
      " 58000 of 200001. Energy: 199.887360\n",
      " 59000 of 200001. Energy: 199.506012\n",
      " 60000 of 200001. Energy: 199.146957\n",
      " 61000 of 200001. Energy: 198.807220\n",
      " 62000 of 200001. Energy: 198.483429\n",
      " 63000 of 200001. Energy: 198.173157\n",
      " 64000 of 200001. Energy: 197.871155\n",
      " 65000 of 200001. Energy: 197.569229\n",
      " 66000 of 200001. Energy: 197.250137\n",
      " 67000 of 200001. Energy: 196.873840\n",
      " 68000 of 200001. Energy: 196.352173\n",
      " 69000 of 200001. Energy: 195.549850\n",
      " 70000 of 200001. Energy: 194.467224\n",
      " 71000 of 200001. Energy: 193.372086\n",
      " 72000 of 200001. Energy: 192.490982\n",
      " 73000 of 200001. Energy: 191.841782\n",
      " 74000 of 200001. Energy: 191.357941\n",
      " 75000 of 200001. Energy: 190.978485\n",
      " 76000 of 200001. Energy: 190.662598\n",
      " 77000 of 200001. Energy: 190.382706\n",
      " 78000 of 200001. Energy: 190.120636\n",
      " 79000 of 200001. Energy: 189.861801\n",
      " 80000 of 200001. Energy: 189.592377\n",
      " 81000 of 200001. Energy: 189.301086\n",
      " 82000 of 200001. Energy: 188.982025\n",
      " 83000 of 200001. Energy: 188.635483\n",
      " 84000 of 200001. Energy: 188.258118\n",
      " 85000 of 200001. Energy: 187.826477\n",
      " 86000 of 200001. Energy: 187.271744\n",
      " 87000 of 200001. Energy: 186.509628\n",
      " 88000 of 200001. Energy: 185.662827\n",
      " 89000 of 200001. Energy: 184.944275\n",
      " 90000 of 200001. Energy: 184.451340\n",
      " 91000 of 200001. Energy: 184.089096\n",
      " 92000 of 200001. Energy: 183.781311\n",
      " 93000 of 200001. Energy: 183.473465\n",
      " 94000 of 200001. Energy: 183.110733\n",
      " 95000 of 200001. Energy: 182.604034\n",
      " 96000 of 200001. Energy: 181.838959\n",
      " 97000 of 200001. Energy: 180.840195\n",
      " 98000 of 200001. Energy: 179.850052\n",
      " 99000 of 200001. Energy: 179.037964\n",
      "100000 of 200001. Energy: 178.414139\n",
      "101000 of 200001. Energy: 177.936310\n",
      "102000 of 200001. Energy: 177.561691\n",
      "103000 of 200001. Energy: 177.258789\n",
      "104000 of 200001. Energy: 177.006363\n",
      "105000 of 200001. Energy: 176.789871\n",
      "106000 of 200001. Energy: 176.600342\n",
      "107000 of 200001. Energy: 176.431030\n",
      "108000 of 200001. Energy: 176.277847\n",
      "109000 of 200001. Energy: 176.137436\n",
      "110000 of 200001. Energy: 176.007751\n",
      "111000 of 200001. Energy: 175.887161\n",
      "112000 of 200001. Energy: 175.774536\n",
      "113000 of 200001. Energy: 175.669037\n",
      "114000 of 200001. Energy: 175.569519\n",
      "115000 of 200001. Energy: 175.475372\n",
      "116000 of 200001. Energy: 175.386261\n",
      "117000 of 200001. Energy: 175.301956\n",
      "118000 of 200001. Energy: 175.221558\n",
      "119000 of 200001. Energy: 175.145447\n",
      "120000 of 200001. Energy: 175.073074\n",
      "121000 of 200001. Energy: 175.004044\n",
      "122000 of 200001. Energy: 174.938370\n",
      "123000 of 200001. Energy: 174.875687\n",
      "124000 of 200001. Energy: 174.815857\n",
      "125000 of 200001. Energy: 174.759033\n",
      "126000 of 200001. Energy: 174.704559\n",
      "127000 of 200001. Energy: 174.652786\n",
      "128000 of 200001. Energy: 174.603119\n",
      "129000 of 200001. Energy: 174.555939\n",
      "130000 of 200001. Energy: 174.510620\n",
      "131000 of 200001. Energy: 174.467667\n",
      "132000 of 200001. Energy: 174.426605\n",
      "133000 of 200001. Energy: 174.387253\n",
      "134000 of 200001. Energy: 174.350098\n",
      "135000 of 200001. Energy: 174.314072\n",
      "136000 of 200001. Energy: 174.279739\n",
      "137000 of 200001. Energy: 174.247009\n",
      "138000 of 200001. Energy: 174.215698\n",
      "139000 of 200001. Energy: 174.185898\n",
      "140000 of 200001. Energy: 174.157440\n",
      "141000 of 200001. Energy: 174.129761\n",
      "142000 of 200001. Energy: 174.103790\n",
      "143000 of 200001. Energy: 174.078751\n",
      "144000 of 200001. Energy: 174.054718\n",
      "145000 of 200001. Energy: 174.031921\n",
      "146000 of 200001. Energy: 174.010208\n",
      "147000 of 200001. Energy: 173.989120\n",
      "148000 of 200001. Energy: 173.968964\n",
      "149000 of 200001. Energy: 173.949814\n",
      "150000 of 200001. Energy: 173.931610\n",
      "151000 of 200001. Energy: 173.913895\n",
      "152000 of 200001. Energy: 173.896881\n",
      "153000 of 200001. Energy: 173.880692\n",
      "154000 of 200001. Energy: 173.865158\n",
      "155000 of 200001. Energy: 173.850586\n",
      "156000 of 200001. Energy: 173.836182\n",
      "157000 of 200001. Energy: 173.822632\n",
      "158000 of 200001. Energy: 173.809479\n",
      "159000 of 200001. Energy: 173.797394\n",
      "160000 of 200001. Energy: 173.785370\n",
      "161000 of 200001. Energy: 173.773849\n",
      "162000 of 200001. Energy: 173.762802\n",
      "163000 of 200001. Energy: 173.752274\n",
      "164000 of 200001. Energy: 173.742081\n",
      "165000 of 200001. Energy: 173.732193\n",
      "166000 of 200001. Energy: 173.722977\n",
      "167000 of 200001. Energy: 173.714096\n",
      "168000 of 200001. Energy: 173.705475\n",
      "169000 of 200001. Energy: 173.697220\n",
      "170000 of 200001. Energy: 173.689529\n",
      "171000 of 200001. Energy: 173.681946\n",
      "172000 of 200001. Energy: 173.674500\n",
      "173000 of 200001. Energy: 173.667404\n",
      "174000 of 200001. Energy: 173.660797\n",
      "175000 of 200001. Energy: 173.654388\n",
      "176000 of 200001. Energy: 173.648346\n",
      "177000 of 200001. Energy: 173.642578\n",
      "178000 of 200001. Energy: 173.636887\n",
      "179000 of 200001. Energy: 173.631516\n",
      "180000 of 200001. Energy: 173.626221\n",
      "181000 of 200001. Energy: 173.621124\n",
      "182000 of 200001. Energy: 173.616348\n",
      "183000 of 200001. Energy: 173.611725\n",
      "184000 of 200001. Energy: 173.607071\n",
      "185000 of 200001. Energy: 173.602753\n",
      "186000 of 200001. Energy: 173.598633\n",
      "187000 of 200001. Energy: 173.594818\n",
      "188000 of 200001. Energy: 173.590927\n",
      "189000 of 200001. Energy: 173.587006\n",
      "190000 of 200001. Energy: 173.583527\n",
      "191000 of 200001. Energy: 173.580139\n",
      "192000 of 200001. Energy: 173.576904\n",
      "193000 of 200001. Energy: 173.573502\n",
      "194000 of 200001. Energy: 173.570480\n",
      "195000 of 200001. Energy: 173.567612\n",
      "196000 of 200001. Energy: 173.564728\n",
      "197000 of 200001. Energy: 173.561981\n",
      "198000 of 200001. Energy: 173.559418\n",
      "199000 of 200001. Energy: 173.556808\n",
      "200000 of 200001. Energy: 173.554489\n"
     ]
    }
   ],
   "source": [
    "points2 = init_points(21, key)\n",
    "b2 = lambda x, y: np.arccosh(1 + 2*(np.linalg.norm(x-y)**2)/((1-np.linalg.norm(y)**2)*(1-np.linalg.norm(x)**2)))\n",
    "invTensorMagnitudeB2 = lambda x: (1-np.linalg.norm(x)**2)**2/4\n",
    "\n",
    "@jit\n",
    "def energy2(points):\n",
    "    energy = 0\n",
    "    for i in range(len(points)):\n",
    "        for j in range(len(points)):\n",
    "            if i == j:\n",
    "                continue\n",
    "            energy += 1/b2(points[i], points[j])\n",
    "            if j == 4*i + 2 or j == 4*i + 1 or j == 4*i + 3 or j == 4*i + 4:\n",
    "                energy += b2(points[i], points[j])**2\n",
    "    return energy\n",
    "\n",
    "dEnergy2 = jit(grad(energy2))\n",
    "\n",
    "def update2(points, lr=1e-4):\n",
    "    gradEnergy = dEnergy2(points)\n",
    "    return [p - np.clip(g*invTensorMagnitudeB2(p),-1,1)*lr for p, g in zip(points, gradEnergy)]\n",
    "        \n",
    "iterations = 200001\n",
    "every = 1000\n",
    "\n",
    "for i in range(iterations):\n",
    "    if i % every == 0:\n",
    "        print(\"%6d of %6d. Energy: %f\" % (i, iterations, energy2(points2)))\n",
    "    points2 = jit(update2)(points2, lr=1e-4)\n"
   ]
  },
  {
   "cell_type": "code",
   "execution_count": 32,
   "metadata": {},
   "outputs": [
    {
     "data": {
      "text/plain": [
       "<matplotlib.collections.PathCollection at 0x1a2cf9dd90>"
      ]
     },
     "execution_count": 32,
     "metadata": {},
     "output_type": "execute_result"
    },
    {
     "data": {
      "image/png": "[encoded data removed]",
      "text/plain": [
       "<Figure size 432x288 with 1 Axes>"
      ]
     },
     "metadata": {
      "needs_background": "light"
     },
     "output_type": "display_data"
    }
   ],
   "source": [
    "plt.scatter(*zip(*points2))"
   ]
  },
  {
   "cell_type": "code",
   "execution_count": null,
   "metadata": {},
   "outputs": [],
   "source": []
  }
 ],
 "metadata": {
  "kernelspec": {
   "display_name": "Python 3",
   "language": "python",
   "name": "python3"
  },
  "language_info": {
   "codemirror_mode": {
    "name": "ipython",
    "version": 3
   },
   "file_extension": ".py",
   "mimetype": "text/x-python",
   "name": "python",
   "nbconvert_exporter": "python",
   "pygments_lexer": "ipython3",
   "version": "3.7.4"
  }
 },
 "nbformat": 4,
 "nbformat_minor": 2
}
